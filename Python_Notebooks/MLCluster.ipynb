{
 "cells": [
  {
   "cell_type": "code",
   "execution_count": 1,
   "id": "2bd3a069-3a32-4cac-a40a-e5892e4627a4",
   "metadata": {},
   "outputs": [],
   "source": [
    "import pandas as pd\n",
    "import matplotlib.pyplot as plt\n",
    "\n",
    "from sklearn.preprocessing import StandardScaler\n",
    "from sklearn.cluster import KMeans"
   ]
  },
  {
   "cell_type": "code",
   "execution_count": 2,
   "id": "2bd8d929-5c5b-448c-b752-d04671467258",
   "metadata": {},
   "outputs": [],
   "source": [
    "df = pd.read_csv('RmVisualisation.csv', index_col = 'Price')"
   ]
  },
  {
   "cell_type": "code",
   "execution_count": 3,
   "id": "ab106032-6561-4cb3-98b1-ad821d1f6714",
   "metadata": {},
   "outputs": [],
   "source": [
    "#this csv has already been cleaned."
   ]
  },
  {
   "cell_type": "code",
   "execution_count": 4,
   "id": "002a5b0c-7c80-4309-b481-1e8f5213228d",
   "metadata": {},
   "outputs": [
    {
     "data": {
      "text/html": [
       "<div>\n",
       "<style scoped>\n",
       "    .dataframe tbody tr th:only-of-type {\n",
       "        vertical-align: middle;\n",
       "    }\n",
       "\n",
       "    .dataframe tbody tr th {\n",
       "        vertical-align: top;\n",
       "    }\n",
       "\n",
       "    .dataframe thead th {\n",
       "        text-align: right;\n",
       "    }\n",
       "</style>\n",
       "<table border=\"1\" class=\"dataframe\">\n",
       "  <thead>\n",
       "    <tr style=\"text-align: right;\">\n",
       "      <th></th>\n",
       "      <th>number_bedrooms</th>\n",
       "      <th>Latitude</th>\n",
       "      <th>Longitude</th>\n",
       "    </tr>\n",
       "    <tr>\n",
       "      <th>Price</th>\n",
       "      <th></th>\n",
       "      <th></th>\n",
       "      <th></th>\n",
       "    </tr>\n",
       "  </thead>\n",
       "  <tbody>\n",
       "    <tr>\n",
       "      <th>1660000.0</th>\n",
       "      <td>2.0</td>\n",
       "      <td>51.517496</td>\n",
       "      <td>-0.100046</td>\n",
       "    </tr>\n",
       "    <tr>\n",
       "      <th>550000.0</th>\n",
       "      <td>1.0</td>\n",
       "      <td>51.511134</td>\n",
       "      <td>-0.077605</td>\n",
       "    </tr>\n",
       "  </tbody>\n",
       "</table>\n",
       "</div>"
      ],
      "text/plain": [
       "           number_bedrooms   Latitude  Longitude\n",
       "Price                                           \n",
       "1660000.0              2.0  51.517496  -0.100046\n",
       "550000.0               1.0  51.511134  -0.077605"
      ]
     },
     "execution_count": 4,
     "metadata": {},
     "output_type": "execute_result"
    }
   ],
   "source": [
    "df.head(2)"
   ]
  },
  {
   "cell_type": "code",
   "execution_count": 5,
   "id": "69b7c51a-297e-4910-a81f-d8e25b869b49",
   "metadata": {},
   "outputs": [],
   "source": [
    "#we wish to standardise the data again"
   ]
  },
  {
   "cell_type": "code",
   "execution_count": 6,
   "id": "cbb3dc01-9b45-46a7-8892-8c34edeaa3fe",
   "metadata": {},
   "outputs": [],
   "source": [
    "scaler = StandardScaler ()"
   ]
  },
  {
   "cell_type": "code",
   "execution_count": 7,
   "id": "9a1b9e5f-eae5-4764-90b3-dae3cbe790ff",
   "metadata": {},
   "outputs": [],
   "source": [
    "df[['number_bedrooms_T', 'Latitude_T', 'Longitude_T']] = scaler.fit_transform(df[['number_bedrooms', 'Latitude', 'Longitude']])"
   ]
  },
  {
   "cell_type": "code",
   "execution_count": 8,
   "id": "95c0521d-0990-414b-8c59-d31e430abd2c",
   "metadata": {},
   "outputs": [
    {
     "data": {
      "text/html": [
       "<div>\n",
       "<style scoped>\n",
       "    .dataframe tbody tr th:only-of-type {\n",
       "        vertical-align: middle;\n",
       "    }\n",
       "\n",
       "    .dataframe tbody tr th {\n",
       "        vertical-align: top;\n",
       "    }\n",
       "\n",
       "    .dataframe thead th {\n",
       "        text-align: right;\n",
       "    }\n",
       "</style>\n",
       "<table border=\"1\" class=\"dataframe\">\n",
       "  <thead>\n",
       "    <tr style=\"text-align: right;\">\n",
       "      <th></th>\n",
       "      <th>number_bedrooms</th>\n",
       "      <th>Latitude</th>\n",
       "      <th>Longitude</th>\n",
       "      <th>number_bedrooms_T</th>\n",
       "      <th>Latitude_T</th>\n",
       "      <th>Longitude_T</th>\n",
       "    </tr>\n",
       "    <tr>\n",
       "      <th>Price</th>\n",
       "      <th></th>\n",
       "      <th></th>\n",
       "      <th></th>\n",
       "      <th></th>\n",
       "      <th></th>\n",
       "      <th></th>\n",
       "    </tr>\n",
       "  </thead>\n",
       "  <tbody>\n",
       "    <tr>\n",
       "      <th>1660000.0</th>\n",
       "      <td>2.0</td>\n",
       "      <td>51.517496</td>\n",
       "      <td>-0.100046</td>\n",
       "      <td>-0.341702</td>\n",
       "      <td>0.179463</td>\n",
       "      <td>0.166664</td>\n",
       "    </tr>\n",
       "    <tr>\n",
       "      <th>550000.0</th>\n",
       "      <td>1.0</td>\n",
       "      <td>51.511134</td>\n",
       "      <td>-0.077605</td>\n",
       "      <td>-1.123406</td>\n",
       "      <td>0.092365</td>\n",
       "      <td>0.315431</td>\n",
       "    </tr>\n",
       "    <tr>\n",
       "      <th>450000.0</th>\n",
       "      <td>0.0</td>\n",
       "      <td>51.520525</td>\n",
       "      <td>-0.096939</td>\n",
       "      <td>-1.905110</td>\n",
       "      <td>0.220937</td>\n",
       "      <td>0.187263</td>\n",
       "    </tr>\n",
       "    <tr>\n",
       "      <th>780000.0</th>\n",
       "      <td>2.0</td>\n",
       "      <td>51.518252</td>\n",
       "      <td>-0.097164</td>\n",
       "      <td>-0.341702</td>\n",
       "      <td>0.189816</td>\n",
       "      <td>0.185771</td>\n",
       "    </tr>\n",
       "    <tr>\n",
       "      <th>1790000.0</th>\n",
       "      <td>2.0</td>\n",
       "      <td>51.508495</td>\n",
       "      <td>-0.080767</td>\n",
       "      <td>-0.341702</td>\n",
       "      <td>0.056227</td>\n",
       "      <td>0.294470</td>\n",
       "    </tr>\n",
       "    <tr>\n",
       "      <th>...</th>\n",
       "      <td>...</td>\n",
       "      <td>...</td>\n",
       "      <td>...</td>\n",
       "      <td>...</td>\n",
       "      <td>...</td>\n",
       "      <td>...</td>\n",
       "    </tr>\n",
       "    <tr>\n",
       "      <th>17250000.0</th>\n",
       "      <td>6.0</td>\n",
       "      <td>51.529296</td>\n",
       "      <td>-0.176073</td>\n",
       "      <td>2.785113</td>\n",
       "      <td>0.341022</td>\n",
       "      <td>-0.337330</td>\n",
       "    </tr>\n",
       "    <tr>\n",
       "      <th>750000.0</th>\n",
       "      <td>1.0</td>\n",
       "      <td>51.515237</td>\n",
       "      <td>-0.193353</td>\n",
       "      <td>-1.123406</td>\n",
       "      <td>0.148531</td>\n",
       "      <td>-0.451879</td>\n",
       "    </tr>\n",
       "    <tr>\n",
       "      <th>1699995.0</th>\n",
       "      <td>2.0</td>\n",
       "      <td>51.514494</td>\n",
       "      <td>-0.199157</td>\n",
       "      <td>-0.341702</td>\n",
       "      <td>0.138362</td>\n",
       "      <td>-0.490352</td>\n",
       "    </tr>\n",
       "    <tr>\n",
       "      <th>3050000.0</th>\n",
       "      <td>3.0</td>\n",
       "      <td>51.538305</td>\n",
       "      <td>-0.168827</td>\n",
       "      <td>0.440002</td>\n",
       "      <td>0.464356</td>\n",
       "      <td>-0.289293</td>\n",
       "    </tr>\n",
       "    <tr>\n",
       "      <th>2999000.0</th>\n",
       "      <td>2.0</td>\n",
       "      <td>51.510356</td>\n",
       "      <td>-0.154383</td>\n",
       "      <td>-0.341702</td>\n",
       "      <td>0.081706</td>\n",
       "      <td>-0.193540</td>\n",
       "    </tr>\n",
       "  </tbody>\n",
       "</table>\n",
       "<p>31817 rows × 6 columns</p>\n",
       "</div>"
      ],
      "text/plain": [
       "            number_bedrooms   Latitude  Longitude  number_bedrooms_T  \\\n",
       "Price                                                                  \n",
       "1660000.0               2.0  51.517496  -0.100046          -0.341702   \n",
       "550000.0                1.0  51.511134  -0.077605          -1.123406   \n",
       "450000.0                0.0  51.520525  -0.096939          -1.905110   \n",
       "780000.0                2.0  51.518252  -0.097164          -0.341702   \n",
       "1790000.0               2.0  51.508495  -0.080767          -0.341702   \n",
       "...                     ...        ...        ...                ...   \n",
       "17250000.0              6.0  51.529296  -0.176073           2.785113   \n",
       "750000.0                1.0  51.515237  -0.193353          -1.123406   \n",
       "1699995.0               2.0  51.514494  -0.199157          -0.341702   \n",
       "3050000.0               3.0  51.538305  -0.168827           0.440002   \n",
       "2999000.0               2.0  51.510356  -0.154383          -0.341702   \n",
       "\n",
       "            Latitude_T  Longitude_T  \n",
       "Price                                \n",
       "1660000.0     0.179463     0.166664  \n",
       "550000.0      0.092365     0.315431  \n",
       "450000.0      0.220937     0.187263  \n",
       "780000.0      0.189816     0.185771  \n",
       "1790000.0     0.056227     0.294470  \n",
       "...                ...          ...  \n",
       "17250000.0    0.341022    -0.337330  \n",
       "750000.0      0.148531    -0.451879  \n",
       "1699995.0     0.138362    -0.490352  \n",
       "3050000.0     0.464356    -0.289293  \n",
       "2999000.0     0.081706    -0.193540  \n",
       "\n",
       "[31817 rows x 6 columns]"
      ]
     },
     "execution_count": 8,
     "metadata": {},
     "output_type": "execute_result"
    }
   ],
   "source": [
    "df"
   ]
  },
  {
   "cell_type": "code",
   "execution_count": 9,
   "id": "ef532ef8-d7cb-4527-99f5-9b7613e9a61e",
   "metadata": {},
   "outputs": [],
   "source": [
    "#create function to identify optimum no. of clusters"
   ]
  },
  {
   "cell_type": "code",
   "execution_count": 10,
   "id": "0ced49a2-6f4a-48f8-af54-9f0cca904d72",
   "metadata": {},
   "outputs": [],
   "source": [
    "def optimise_k_means(data, max_k):\n",
    "    means = []\n",
    "    inertias = []\n",
    "    \n",
    "    for k in range(1, max_k):\n",
    "        kmeans = KMeans(n_clusters=k)\n",
    "        kmeans.fit(data)\n",
    "        \n",
    "        means.append(k)\n",
    "        inertias.append(kmeans.inertia_)\n",
    "        \n",
    "    #generate elbow plot\n",
    "    fig =plt.subplots(figsize=(10, 5))\n",
    "    plt.plot(means, inertias, 'o-')\n",
    "    plt.xlabel('Number of Clusters')\n",
    "    plt.ylabel('Inertia')\n",
    "    plt.grid(True)\n",
    "    plt.show()"
   ]
  },
  {
   "cell_type": "code",
   "execution_count": 11,
   "id": "8a1ee210-2505-490d-a2eb-498c68d646b6",
   "metadata": {},
   "outputs": [],
   "source": [
    "#Let's start with a 3D cluster. Using all our data"
   ]
  },
  {
   "cell_type": "code",
   "execution_count": 12,
   "id": "5f634f2c-190f-43c2-b93b-793fc7658ba2",
   "metadata": {},
   "outputs": [
    {
     "data": {
      "image/png": "[encoded data removed]",
      "text/plain": [
       "<Figure size 720x360 with 1 Axes>"
      ]
     },
     "metadata": {
      "needs_background": "light"
     },
     "output_type": "display_data"
    }
   ],
   "source": [
    "optimise_k_means(df[['number_bedrooms_T', 'Longitude_T', 'Latitude_T']], 10)"
   ]
  },
  {
   "cell_type": "code",
   "execution_count": 13,
   "id": "0878927c-4deb-427e-934c-01cd0dd38e87",
   "metadata": {},
   "outputs": [
    {
     "data": {
      "image/png": "[encoded data removed]",
      "text/plain": [
       "<Figure size 720x360 with 1 Axes>"
      ]
     },
     "metadata": {
      "needs_background": "light"
     },
     "output_type": "display_data"
    }
   ],
   "source": [
    "optimise_k_means(df[['number_bedrooms_T', 'Longitude_T']], 10)"
   ]
  },
  {
   "cell_type": "code",
   "execution_count": 14,
   "id": "ca6d02cf-4dda-41f2-978d-cd472ab42235",
   "metadata": {},
   "outputs": [
    {
     "data": {
      "image/png": "[encoded data removed]",
      "text/plain": [
       "<Figure size 720x360 with 1 Axes>"
      ]
     },
     "metadata": {
      "needs_background": "light"
     },
     "output_type": "display_data"
    }
   ],
   "source": [
    "optimise_k_means(df[['number_bedrooms_T', 'Latitude_T']], 10)"
   ]
  },
  {
   "cell_type": "code",
   "execution_count": 15,
   "id": "ddb18f25-a9f9-4c72-b5ba-8170783a2270",
   "metadata": {},
   "outputs": [],
   "source": [
    "#looking at the moments of inertiaa, it appears 4 clusters is best for our 3d plot and 3 clusters for our 2d plots."
   ]
  },
  {
   "cell_type": "code",
   "execution_count": 16,
   "id": "4270a45a-2afa-4be2-beaa-770cb080f99a",
   "metadata": {},
   "outputs": [],
   "source": [
    "kmeans = KMeans(n_clusters=4)"
   ]
  },
  {
   "cell_type": "code",
   "execution_count": 17,
   "id": "cfe3c851-8725-492f-91bd-4fef28808052",
   "metadata": {},
   "outputs": [
    {
     "data": {
      "text/plain": [
       "KMeans(n_clusters=4)"
      ]
     },
     "execution_count": 17,
     "metadata": {},
     "output_type": "execute_result"
    }
   ],
   "source": [
    "kmeans.fit(df[['number_bedrooms_T', 'Longitude_T', 'Latitude_T']]) "
   ]
  },
  {
   "cell_type": "code",
   "execution_count": 18,
   "id": "0c5a2344-a3ee-4634-a283-7874af302b64",
   "metadata": {},
   "outputs": [],
   "source": [
    "df['3dkmeans'] = kmeans.labels_"
   ]
  },
  {
   "cell_type": "code",
   "execution_count": 19,
   "id": "f84e369d-f7b2-4426-a7f3-026d1952b5cf",
   "metadata": {},
   "outputs": [
    {
     "data": {
      "text/plain": [
       "<mpl_toolkits.mplot3d.art3d.Path3DCollection at 0x7fce848615b0>"
      ]
     },
     "execution_count": 19,
     "metadata": {},
     "output_type": "execute_result"
    },
    {
     "data": {
      "image/png": "[encoded data removed]",
      "text/plain": [
       "<Figure size 432x288 with 1 Axes>"
      ]
     },
     "metadata": {
      "needs_background": "light"
     },
     "output_type": "display_data"
    }
   ],
   "source": [
    "from mpl_toolkits.mplot3d import Axes3D\n",
    "\n",
    "fig = plt.figure()\n",
    "ax = fig.add_subplot(111, projection='3d')\n",
    "ax.scatter(df['Latitude'], df['number_bedrooms'], df['Longitude'], c=df['3dkmeans'])\n"
   ]
  },
  {
   "cell_type": "code",
   "execution_count": 20,
   "id": "e7c97335-20bd-4b6e-a20e-e731ea9f66f0",
   "metadata": {},
   "outputs": [],
   "source": [
    "#this is hard to interpret, maybe using 2d clusters could reveal patterns in our data."
   ]
  },
  {
   "cell_type": "code",
   "execution_count": 21,
   "id": "1fe7332e-51d6-484c-86d2-859a897d4409",
   "metadata": {},
   "outputs": [
    {
     "data": {
      "image/png": "[encoded data removed]",
      "text/plain": [
       "<Figure size 432x288 with 1 Axes>"
      ]
     },
     "metadata": {
      "needs_background": "light"
     },
     "output_type": "display_data"
    }
   ],
   "source": [
    "kmeans = KMeans(n_clusters=3)\n",
    "kmeans.fit(df[['number_bedrooms_T', 'Latitude_T']]) \n",
    "df['2dkmeans_1'] = kmeans.labels_\n",
    "plt.scatter(x=df['number_bedrooms_T'], y=df['Latitude_T'], c=df['2dkmeans_1'])\n",
    "plt.savefig('latitudecluster.png')"
   ]
  },
  {
   "cell_type": "code",
   "execution_count": 22,
   "id": "8943be35-5f42-4342-b0a0-875346db91ac",
   "metadata": {},
   "outputs": [
    {
     "data": {
      "image/png": "[encoded data removed]",
      "text/plain": [
       "<Figure size 432x288 with 1 Axes>"
      ]
     },
     "metadata": {
      "needs_background": "light"
     },
     "output_type": "display_data"
    }
   ],
   "source": [
    "kmeans = KMeans(n_clusters=3)\n",
    "kmeans.fit(df[['number_bedrooms_T', 'Longitude_T']]) \n",
    "df['2dkmeans_2'] = kmeans.labels_\n",
    "plt.scatter(x=df['Longitude_T'], y=df['number_bedrooms_T'], c=df['2dkmeans_2'])\n",
    "plt.savefig('longitudecluster.png')"
   ]
  },
  {
   "cell_type": "code",
   "execution_count": 23,
   "id": "542fd8df-9cac-4384-93d7-04ee5ff0121c",
   "metadata": {},
   "outputs": [
    {
     "data": {
      "text/html": [
       "<div>\n",
       "<style scoped>\n",
       "    .dataframe tbody tr th:only-of-type {\n",
       "        vertical-align: middle;\n",
       "    }\n",
       "\n",
       "    .dataframe tbody tr th {\n",
       "        vertical-align: top;\n",
       "    }\n",
       "\n",
       "    .dataframe thead th {\n",
       "        text-align: right;\n",
       "    }\n",
       "</style>\n",
       "<table border=\"1\" class=\"dataframe\">\n",
       "  <thead>\n",
       "    <tr style=\"text-align: right;\">\n",
       "      <th></th>\n",
       "      <th>number_bedrooms</th>\n",
       "      <th>Latitude</th>\n",
       "      <th>Longitude</th>\n",
       "      <th>number_bedrooms_T</th>\n",
       "      <th>Latitude_T</th>\n",
       "      <th>Longitude_T</th>\n",
       "      <th>3dkmeans</th>\n",
       "      <th>2dkmeans_1</th>\n",
       "      <th>2dkmeans_2</th>\n",
       "    </tr>\n",
       "    <tr>\n",
       "      <th>Price</th>\n",
       "      <th></th>\n",
       "      <th></th>\n",
       "      <th></th>\n",
       "      <th></th>\n",
       "      <th></th>\n",
       "      <th></th>\n",
       "      <th></th>\n",
       "      <th></th>\n",
       "      <th></th>\n",
       "    </tr>\n",
       "  </thead>\n",
       "  <tbody>\n",
       "    <tr>\n",
       "      <th>1660000.0</th>\n",
       "      <td>2.0</td>\n",
       "      <td>51.517496</td>\n",
       "      <td>-0.100046</td>\n",
       "      <td>-0.341702</td>\n",
       "      <td>0.179463</td>\n",
       "      <td>0.166664</td>\n",
       "      <td>1</td>\n",
       "      <td>0</td>\n",
       "      <td>2</td>\n",
       "    </tr>\n",
       "    <tr>\n",
       "      <th>550000.0</th>\n",
       "      <td>1.0</td>\n",
       "      <td>51.511134</td>\n",
       "      <td>-0.077605</td>\n",
       "      <td>-1.123406</td>\n",
       "      <td>0.092365</td>\n",
       "      <td>0.315431</td>\n",
       "      <td>1</td>\n",
       "      <td>0</td>\n",
       "      <td>2</td>\n",
       "    </tr>\n",
       "    <tr>\n",
       "      <th>450000.0</th>\n",
       "      <td>0.0</td>\n",
       "      <td>51.520525</td>\n",
       "      <td>-0.096939</td>\n",
       "      <td>-1.905110</td>\n",
       "      <td>0.220937</td>\n",
       "      <td>0.187263</td>\n",
       "      <td>0</td>\n",
       "      <td>0</td>\n",
       "      <td>2</td>\n",
       "    </tr>\n",
       "    <tr>\n",
       "      <th>780000.0</th>\n",
       "      <td>2.0</td>\n",
       "      <td>51.518252</td>\n",
       "      <td>-0.097164</td>\n",
       "      <td>-0.341702</td>\n",
       "      <td>0.189816</td>\n",
       "      <td>0.185771</td>\n",
       "      <td>1</td>\n",
       "      <td>0</td>\n",
       "      <td>2</td>\n",
       "    </tr>\n",
       "    <tr>\n",
       "      <th>1790000.0</th>\n",
       "      <td>2.0</td>\n",
       "      <td>51.508495</td>\n",
       "      <td>-0.080767</td>\n",
       "      <td>-0.341702</td>\n",
       "      <td>0.056227</td>\n",
       "      <td>0.294470</td>\n",
       "      <td>1</td>\n",
       "      <td>0</td>\n",
       "      <td>2</td>\n",
       "    </tr>\n",
       "    <tr>\n",
       "      <th>...</th>\n",
       "      <td>...</td>\n",
       "      <td>...</td>\n",
       "      <td>...</td>\n",
       "      <td>...</td>\n",
       "      <td>...</td>\n",
       "      <td>...</td>\n",
       "      <td>...</td>\n",
       "      <td>...</td>\n",
       "      <td>...</td>\n",
       "    </tr>\n",
       "    <tr>\n",
       "      <th>17250000.0</th>\n",
       "      <td>6.0</td>\n",
       "      <td>51.529296</td>\n",
       "      <td>-0.176073</td>\n",
       "      <td>2.785113</td>\n",
       "      <td>0.341022</td>\n",
       "      <td>-0.337330</td>\n",
       "      <td>2</td>\n",
       "      <td>2</td>\n",
       "      <td>0</td>\n",
       "    </tr>\n",
       "    <tr>\n",
       "      <th>750000.0</th>\n",
       "      <td>1.0</td>\n",
       "      <td>51.515237</td>\n",
       "      <td>-0.193353</td>\n",
       "      <td>-1.123406</td>\n",
       "      <td>0.148531</td>\n",
       "      <td>-0.451879</td>\n",
       "      <td>0</td>\n",
       "      <td>0</td>\n",
       "      <td>2</td>\n",
       "    </tr>\n",
       "    <tr>\n",
       "      <th>1699995.0</th>\n",
       "      <td>2.0</td>\n",
       "      <td>51.514494</td>\n",
       "      <td>-0.199157</td>\n",
       "      <td>-0.341702</td>\n",
       "      <td>0.138362</td>\n",
       "      <td>-0.490352</td>\n",
       "      <td>0</td>\n",
       "      <td>0</td>\n",
       "      <td>2</td>\n",
       "    </tr>\n",
       "    <tr>\n",
       "      <th>3050000.0</th>\n",
       "      <td>3.0</td>\n",
       "      <td>51.538305</td>\n",
       "      <td>-0.168827</td>\n",
       "      <td>0.440002</td>\n",
       "      <td>0.464356</td>\n",
       "      <td>-0.289293</td>\n",
       "      <td>0</td>\n",
       "      <td>2</td>\n",
       "      <td>0</td>\n",
       "    </tr>\n",
       "    <tr>\n",
       "      <th>2999000.0</th>\n",
       "      <td>2.0</td>\n",
       "      <td>51.510356</td>\n",
       "      <td>-0.154383</td>\n",
       "      <td>-0.341702</td>\n",
       "      <td>0.081706</td>\n",
       "      <td>-0.193540</td>\n",
       "      <td>0</td>\n",
       "      <td>0</td>\n",
       "      <td>2</td>\n",
       "    </tr>\n",
       "  </tbody>\n",
       "</table>\n",
       "<p>31817 rows × 9 columns</p>\n",
       "</div>"
      ],
      "text/plain": [
       "            number_bedrooms   Latitude  Longitude  number_bedrooms_T  \\\n",
       "Price                                                                  \n",
       "1660000.0               2.0  51.517496  -0.100046          -0.341702   \n",
       "550000.0                1.0  51.511134  -0.077605          -1.123406   \n",
       "450000.0                0.0  51.520525  -0.096939          -1.905110   \n",
       "780000.0                2.0  51.518252  -0.097164          -0.341702   \n",
       "1790000.0               2.0  51.508495  -0.080767          -0.341702   \n",
       "...                     ...        ...        ...                ...   \n",
       "17250000.0              6.0  51.529296  -0.176073           2.785113   \n",
       "750000.0                1.0  51.515237  -0.193353          -1.123406   \n",
       "1699995.0               2.0  51.514494  -0.199157          -0.341702   \n",
       "3050000.0               3.0  51.538305  -0.168827           0.440002   \n",
       "2999000.0               2.0  51.510356  -0.154383          -0.341702   \n",
       "\n",
       "            Latitude_T  Longitude_T  3dkmeans  2dkmeans_1  2dkmeans_2  \n",
       "Price                                                                  \n",
       "1660000.0     0.179463     0.166664         1           0           2  \n",
       "550000.0      0.092365     0.315431         1           0           2  \n",
       "450000.0      0.220937     0.187263         0           0           2  \n",
       "780000.0      0.189816     0.185771         1           0           2  \n",
       "1790000.0     0.056227     0.294470         1           0           2  \n",
       "...                ...          ...       ...         ...         ...  \n",
       "17250000.0    0.341022    -0.337330         2           2           0  \n",
       "750000.0      0.148531    -0.451879         0           0           2  \n",
       "1699995.0     0.138362    -0.490352         0           0           2  \n",
       "3050000.0     0.464356    -0.289293         0           2           0  \n",
       "2999000.0     0.081706    -0.193540         0           0           2  \n",
       "\n",
       "[31817 rows x 9 columns]"
      ]
     },
     "execution_count": 23,
     "metadata": {},
     "output_type": "execute_result"
    }
   ],
   "source": [
    "df"
   ]
  }
 ],
 "metadata": {
  "kernelspec": {
   "display_name": "Python 3",
   "language": "python",
   "name": "python3"
  },
  "language_info": {
   "codemirror_mode": {
    "name": "ipython",
    "version": 3
   },
   "file_extension": ".py",
   "mimetype": "text/x-python",
   "name": "python",
   "nbconvert_exporter": "python",
   "pygments_lexer": "ipython3",
   "version": "3.8.8"
  }
 },
 "nbformat": 4,
 "nbformat_minor": 5
}
